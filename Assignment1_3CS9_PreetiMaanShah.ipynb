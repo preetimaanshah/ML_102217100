{
 "cells": [
  {
   "cell_type": "markdown",
   "id": "ce010278",
   "metadata": {},
   "source": [
    "__Q1: Questions on Basic NumPy Array<br>\n",
    "(a) Reverse the NumPy array: arr = np.array([1, 2, 3, 6, 4, 5])<br>\n",
    "(b) Flatten the NumPy arr: array1 = np.array([[1, 2, 3], [2, 4, 5], [1, 2, 3]]) using any two \n",
    "NumPy in-built methods<br>\n",
    "(c) Compare the following numpy arrays:<br>\n",
    "arr1 = np.array([[1, 2], [3, 4]])<br>\n",
    "arr2 = np.array([[1, 2], [3, 4]])__"
   ]
  },
  {
   "cell_type": "code",
   "execution_count": 3,
   "id": "27534aa9",
   "metadata": {},
   "outputs": [
    {
     "name": "stdout",
     "output_type": "stream",
     "text": [
      " a. reversed array: [5 4 3 2 1]\n",
      " b. flattened array: [1 2 3 2 4 5 1 2 3]\n",
      " c. equality: True\n"
     ]
    }
   ],
   "source": [
    "import numpy as np \n",
    "arr = np.array([1,2,3,4,5])\n",
    "reversed_arr = np.flip(arr)\n",
    "print(\" a. reversed array:\", reversed_arr)\n",
    "\n",
    "array1 = np.array([[1, 2, 3], [2, 4, 5], [1, 2, 3]])\n",
    "flattened_arr1 = array1.flatten()\n",
    "print(\" b. flattened array:\", flattened_arr1)\n",
    "\n",
    "arr1 = np.array([[1, 2], [3, 4]])\n",
    "arr2 = np.array([[1, 2], [3, 4]])\n",
    "print(\" c. equality:\",np.array_equal(arr1, arr2))"
   ]
  },
  {
   "cell_type": "markdown",
   "id": "ee9f2531",
   "metadata": {},
   "source": [
    "__(d) Find the most frequent value and their indice(s) in the following arrays:<br> \n",
    "i. x = np.array([1,2,3,4,5,1,2,1,1,1]) <br>\n",
    "ii.y = np.array([1, 1, 1, 2, 3, 4, 2, 4, 3, 3, ])<br>__"
   ]
  },
  {
   "cell_type": "code",
   "execution_count": 5,
   "id": "5eab8d75",
   "metadata": {},
   "outputs": [
    {
     "name": "stdout",
     "output_type": "stream",
     "text": [
      "i. most frequent value is 1 indices are [0 5 7 8 9]\n",
      "i. most frequent value is 1 indices are [0 1 2]\n"
     ]
    }
   ],
   "source": [
    "x = np.array([1,2,3,4,5,1,2,1,1,1])\n",
    "y = np.array([1, 1, 1, 2, 3, 4, 2, 4, 3, 3, ])\n",
    "\n",
    "# Most frequent value in x\n",
    "most_freq_value_x = np.bincount(x).argmax()\n",
    "#bincount creates a frequency array for the elements in x\n",
    "#argmax finds the index with max value\n",
    "indices_x = np.where(x == most_freq_value_x)\n",
    "\n",
    "# Most frequent value in y\n",
    "most_freq_value_y = np.bincount(y).argmax()\n",
    "indices_y = np.where(y == most_freq_value_y)\n",
    "\n",
    "print(\"i. most frequent value is\",most_freq_value_x,\"indices are\",indices_x[0])\n",
    "print(\"i. most frequent value is\",most_freq_value_y,\"indices are\",indices_y[0])\n"
   ]
  },
  {
   "cell_type": "markdown",
   "id": "3fae9a4d",
   "metadata": {},
   "source": [
    "__(e) For the array gfg = np.matrix('[4, 1, 9; 12, 3, 1; 4, 5, 6]'), find <br>\n",
    "   i.Sum of all elements <br>\n",
    "   ii.Sum of all elements row-wise <br>\n",
    "   iii.Sum of all elements column-wise<br>__\n"
   ]
  },
  {
   "cell_type": "code",
   "execution_count": 6,
   "id": "7ccf3c7e",
   "metadata": {},
   "outputs": [
    {
     "name": "stdout",
     "output_type": "stream",
     "text": [
      "i. 45\n",
      "\n",
      "ii. [[14]\n",
      " [16]\n",
      " [15]]\n",
      "\n",
      "iii. [[20  9 16]]\n"
     ]
    }
   ],
   "source": [
    "gfg = np.matrix('[4, 1, 9; 12, 3, 1; 4, 5, 6]')\n",
    "print(\"i.\", gfg.sum())\n",
    "print()\n",
    "print(\"ii.\", gfg.sum(axis = 1))\n",
    "print()\n",
    "print(\"iii.\", gfg.sum(axis=0))"
   ]
  },
  {
   "cell_type": "markdown",
   "id": "75a49bff",
   "metadata": {},
   "source": [
    "__(f) For the matrix: n_array = np.array([[55, 25, 15],[30, 44, 2],[11, 45, 77]]), find <br>\n",
    "i. Sum of diagonal elements <br>\n",
    "ii. Eigen values of matrix <br>\n",
    "iii.Eigen vectors of matrix <br>\n",
    "iv. Inverse of matrix <br>\n",
    "v. Determinant of matrix <br>__\n",
    "\n",
    " \n",
    " \n"
   ]
  },
  {
   "cell_type": "code",
   "execution_count": 7,
   "id": "6cadfdab",
   "metadata": {},
   "outputs": [
    {
     "name": "stdout",
     "output_type": "stream",
     "text": [
      "i. 176\n",
      "\n",
      "ii. [98.16835147 28.097044   49.73460452]\n",
      "\n",
      "iii. [[ 0.4574917   0.34637121 -0.15017693]\n",
      " [ 0.28447814 -0.72784061 -0.4852124 ]\n",
      " [ 0.84248058  0.59184038  0.8614034 ]]\n",
      "\n",
      "iv. 137180.0000000001\n",
      "\n",
      "v. [[ 0.02404141 -0.00911212 -0.00444671]\n",
      " [-0.01667882  0.02966905  0.0024785 ]\n",
      " [ 0.00631287 -0.01603732  0.01217379]]\n"
     ]
    }
   ],
   "source": [
    "n_array = np.array([[55, 25, 15],[30, 44, 2],[11, 45, 77]])\n",
    "# Sum of diagonal elements\n",
    "print(\"i.\",np.trace(n_array))\n",
    "print()\n",
    "# Eigenvalues\n",
    "eigen_values, eigen_vectors = np.linalg.eig(n_array)\n",
    "print(\"ii.\",eigen_values)\n",
    "print()\n",
    "print(\"iii.\",eigen_vectors)\n",
    "print()\n",
    "# Determinant of matrix\n",
    "print(\"iv.\",np.linalg.det(n_array))\n",
    "print()\n",
    "# Inverse of matrix\n",
    "print(\"v.\",np.linalg.inv(n_array))"
   ]
  },
  {
   "cell_type": "markdown",
   "id": "3ee181ac",
   "metadata": {},
   "source": [
    "__(g) Multiply the following matrices and also find covariance between matrices using NumPy: <br>\n",
    "i. p = [[1, 2], [2, 3]] <br>\n",
    " q = [[4, 5], [6, 7]] <br>\n",
    "ii. \n",
    "p = [[1, 2], [2, 3], [4, 5]] <br>\n",
    "q = [[4, 5, 1], [6, 7, 2]] <br>__"
   ]
  },
  {
   "cell_type": "code",
   "execution_count": 8,
   "id": "d2ecfea3",
   "metadata": {},
   "outputs": [
    {
     "name": "stdout",
     "output_type": "stream",
     "text": [
      "i. Multiplication:  [[16 19]\n",
      " [26 31]]\n",
      " Covariance:  [[ 4.5  7.5]\n",
      " [ 7.5 12.5]]\n",
      "\n",
      "ii. Multiplication:  [[16 19  5]\n",
      " [26 31  8]\n",
      " [46 55 14]]\n",
      " Covariance:  [[ 54.33333333  89.16666667 158.83333333]\n",
      " [ 89.16666667 146.33333333 260.66666667]\n",
      " [158.83333333 260.66666667 464.33333333]]\n"
     ]
    }
   ],
   "source": [
    "\n",
    "p = np.array([[1, 2], [2, 3]])\n",
    "q = np.array([[4, 5], [6, 7]])\n",
    "product =np.dot(p, q)\n",
    "print(\"i. Multiplication: \",product)\n",
    "print(\" Covariance: \", np.cov(product))\n",
    "print()\n",
    "\n",
    "p = np.array([[1, 2], [2, 3], [4, 5]])\n",
    "q = np.array([[4, 5, 1], [6, 7, 2]])\n",
    "product =np.dot(p, q)\n",
    "print(\"ii. Multiplication: \",product)\n",
    "print(\" Covariance: \", np.cov(product))\n",
    "\n"
   ]
  },
  {
   "cell_type": "markdown",
   "id": "81768943",
   "metadata": {},
   "source": [
    "__(h) For the matrices: x = np.array([[2, 3, 4], [3, 2, 9]]); y = np.array([[1, 5, 0], [5, 10, 3]]), \n",
    "find inner, outer and cartesian product?__"
   ]
  },
  {
   "cell_type": "code",
   "execution_count": 9,
   "id": "97248779",
   "metadata": {},
   "outputs": [
    {
     "data": {
      "text/plain": [
       "(array([[17, 52],\n",
       "        [13, 62]]),\n",
       " array([[ 2, 10,  0, 10, 20,  6],\n",
       "        [ 3, 15,  0, 15, 30,  9],\n",
       "        [ 4, 20,  0, 20, 40, 12],\n",
       "        [ 3, 15,  0, 15, 30,  9],\n",
       "        [ 2, 10,  0, 10, 20,  6],\n",
       "        [ 9, 45,  0, 45, 90, 27]]),\n",
       " array([[[ 2,  3,  4],\n",
       "         [ 1,  5,  0]],\n",
       " \n",
       "        [[ 2,  3,  4],\n",
       "         [ 5, 10,  3]],\n",
       " \n",
       "        [[ 3,  2,  9],\n",
       "         [ 1,  5,  0]],\n",
       " \n",
       "        [[ 3,  2,  9],\n",
       "         [ 5, 10,  3]]]))"
      ]
     },
     "execution_count": 9,
     "metadata": {},
     "output_type": "execute_result"
    }
   ],
   "source": [
    "x = np.array([[2, 3, 4], [3, 2, 9]])\n",
    "y = np.array([[1, 5, 0], [5, 10, 3]])\n",
    "inner_product = np.inner(x, y)\n",
    "\n",
    "outer_product = np.outer(x, y)\n",
    "\n",
    "import itertools\n",
    "cartesian_product = np.array(list(itertools.product(x, y)))\n",
    "inner_product, outer_product, cartesian_product"
   ]
  },
  {
   "cell_type": "markdown",
   "id": "484a45ff",
   "metadata": {},
   "source": [
    "__Q2: Based on NumPy Mathematics and Statistics <br>\n",
    "(a) For the array: array = np.array([[1, -2, 3],[-4, 5, -6]])<br>\n",
    "i.Find element-wise absolute value<br>\n",
    "ii. Find the 25th, 50th, and 75th percentile of flattened array, for each column, for each \n",
    "row.<br>\n",
    "iii.Mean, Median and Standard Deviation of flattened array, of each column, and \n",
    "each row <br>__\n",
    " "
   ]
  },
  {
   "cell_type": "code",
   "execution_count": 17,
   "id": "7efaa0b4",
   "metadata": {},
   "outputs": [
    {
     "name": "stdout",
     "output_type": "stream",
     "text": [
      "i. [[1 2 3]\n",
      " [4 5 6]]\n",
      "ii. 25th : -3.5\n",
      "50th : -0.5\n",
      "75th : 2.5\n",
      "iii. Mean: -0.5 Median: -0.5 Standard Deviation: 3.8622100754188224\n"
     ]
    }
   ],
   "source": [
    "a = np.array([[1, -2, 3], [-4, 5, -6]])\n",
    "\n",
    "#i. Element-wise absolute value\n",
    "abs_a = np.abs(a)\n",
    "print(\"i.\", abs_a)\n",
    "\n",
    "#ii. 25th, 50th, and 75th percentiles\n",
    "percentiles = np.percentile(a.flatten(), [25, 50, 75])\n",
    "print(\"ii. 25th :\",percentiles[0])\n",
    "print(\"50th :\",percentiles[1])\n",
    "print(\"75th :\",percentiles[2])\n",
    "#iii. Mean, median, standard deviation\n",
    "mean = np.mean(a.flatten())\n",
    "median = np.median(a.flatten())\n",
    "std_dev = np.std(a.flatten())\n",
    "print(\"iii. Mean:\", mean,\"Median:\",median,\"Standard Deviation:\",std_dev)"
   ]
  },
  {
   "cell_type": "markdown",
   "id": "e8026e58",
   "metadata": {},
   "source": [
    "__(b) For the array: a = np.array([-1.8, -1.6, -0.5, 0.5,1.6, 1.8, 3.0]). Find floor, ceiling \n",
    "and truncated value, rounded values__"
   ]
  },
  {
   "cell_type": "code",
   "execution_count": 18,
   "id": "77830529",
   "metadata": {},
   "outputs": [
    {
     "data": {
      "text/plain": [
       "(array([-2., -2., -1.,  0.,  1.,  1.,  3.]),\n",
       " array([-1., -1., -0.,  1.,  2.,  2.,  3.]),\n",
       " array([-1., -1., -0.,  0.,  1.,  1.,  3.]))"
      ]
     },
     "execution_count": 18,
     "metadata": {},
     "output_type": "execute_result"
    }
   ],
   "source": [
    "a = np.array([-1.8, -1.6, -0.5, 0.5,1.6, 1.8, 3.0])\n",
    "# Floor values\n",
    "floor_values = np.floor(a)\n",
    "\n",
    "# Ceiling values\n",
    "ceiling_values = np.ceil(a)\n",
    "\n",
    "# Truncated values\n",
    "truncated_values = np.trunc(a)\n",
    "\n",
    "floor_values, ceiling_values, truncated_values"
   ]
  },
  {
   "cell_type": "markdown",
   "id": "8fe52aa7",
   "metadata": {},
   "source": [
    "__Q3: Based on Searching and Sorting<br>\n",
    "(a) For the array: array = np.array([10, 52, 62, 16, 16, 54, 453]), find <br>\n",
    "i. Sorted array<br>\n",
    "ii.Indices of sorted array <br>\n",
    "iii. 4 smallest elements <br>\n",
    "iv.5 largest elements<br>__\n",
    " \n",
    "\n",
    "\n",
    " "
   ]
  },
  {
   "cell_type": "code",
   "execution_count": 24,
   "id": "38db6049",
   "metadata": {},
   "outputs": [
    {
     "name": "stdout",
     "output_type": "stream",
     "text": [
      "i. [ 10  16  16  52  54  62 453]\n",
      "ii. [0 3 4 1 5 2 6]\n",
      "iii. [10 16 16 52]\n",
      "iv. [ 16  52  54  62 453]\n"
     ]
    }
   ],
   "source": [
    "array = np.array([10, 52, 62, 16, 16, 54, 453])\n",
    "sorted_array = np.sort(array)\n",
    "print(\"i.\",sorted_array)\n",
    "print(\"ii.\",np.argsort(array))\n",
    "print(\"iii.\",sorted_array[:4])\n",
    "print(\"iv.\",sorted_array[-5:])"
   ]
  },
  {
   "cell_type": "markdown",
   "id": "e558d9ae",
   "metadata": {},
   "source": [
    "__(b) For the array: array = np.array([1.0, 1.2, 2.2, 2.0, 3.0, 2.0]), find<br>\n",
    "i. Integer elements only<br>\n",
    "ii. Float elements only__"
   ]
  },
  {
   "cell_type": "code",
   "execution_count": 33,
   "id": "70c76b0b",
   "metadata": {},
   "outputs": [
    {
     "name": "stdout",
     "output_type": "stream",
     "text": [
      "i. Integer elements: [1. 2. 3. 2.]\n",
      "ii. Float elements: [1.2 2.2]\n"
     ]
    }
   ],
   "source": [
    "array = np.array([1.0, 1.2, 2.2, 2.0, 3.0, 2.0])\n",
    "array = np.array([1.0, 1.2, 2.2, 2.0, 3.0, 2.0])\n",
    "\n",
    "int_elements = array[array == array.astype(int)]\n",
    "print(\"i. Integer elements:\", int_elements)\n",
    "\n",
    "\n",
    "float_elements = array[array != array.astype(int)]\n",
    "print(\"ii. Float elements:\", float_elements)\n"
   ]
  },
  {
   "cell_type": "markdown",
   "id": "9357a4f4",
   "metadata": {},
   "source": [
    "__Q4: (a) Write a function named img_to_array(path) that reads an image from a specified path and \n",
    "save it as text file on local machine? (Note: use separate cases for RGB and Grey Scale \n",
    "images)<br>\n",
    "(b) Load the saved file into jupyter notebook?<br>__"
   ]
  },
  {
   "cell_type": "code",
   "execution_count": 10,
   "id": "6892b6ec",
   "metadata": {
    "scrolled": true
   },
   "outputs": [
    {
     "name": "stdout",
     "output_type": "stream",
     "text": [
      "[[255. 255. 255.]\n",
      " [255. 255. 255.]\n",
      " [255. 255. 255.]\n",
      " ...\n",
      " [165. 108.  63.]\n",
      " [168. 111.  66.]\n",
      " [172. 115.  70.]]\n"
     ]
    }
   ],
   "source": [
    "from PIL import Image\n",
    "import numpy as np\n",
    "def img_to_array(path):\n",
    "    img = Image.open(path)\n",
    "    img_array = np.array(img)\n",
    "    \n",
    "    if len(img_array.shape) == 3:  # RGB image\n",
    "        np.savetxt('image_rgb.txt', img_array.reshape(-1, img_array.shape[2]), fmt='%d')\n",
    "    else:  # Grayscale image\n",
    "        np.savetxt('image_gray.txt', img_array, fmt='%d')\n",
    "    \n",
    "    return img_array\n",
    "\n",
    "img_to_array(r'C:\\Users\\Hp\\OneDrive\\Desktop\\resized.jpg')\n",
    "\n",
    "\n",
    "img_array_rgb = np.loadtxt('image_rgb.txt')\n",
    "\n",
    "\n",
    "print(img_array_rgb)\n"
   ]
  },
  {
   "cell_type": "code",
   "execution_count": null,
   "id": "37459b5f",
   "metadata": {},
   "outputs": [],
   "source": []
  }
 ],
 "metadata": {
  "kernelspec": {
   "display_name": "Python 3 (ipykernel)",
   "language": "python",
   "name": "python3"
  },
  "language_info": {
   "codemirror_mode": {
    "name": "ipython",
    "version": 3
   },
   "file_extension": ".py",
   "mimetype": "text/x-python",
   "name": "python",
   "nbconvert_exporter": "python",
   "pygments_lexer": "ipython3",
   "version": "3.11.5"
  }
 },
 "nbformat": 4,
 "nbformat_minor": 5
}
