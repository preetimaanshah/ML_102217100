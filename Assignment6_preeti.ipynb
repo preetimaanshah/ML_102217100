{
  "nbformat": 4,
  "nbformat_minor": 0,
  "metadata": {
    "colab": {
      "provenance": []
    },
    "kernelspec": {
      "name": "python3",
      "display_name": "Python 3"
    },
    "language_info": {
      "name": "python"
    }
  },
  "cells": [
    {
      "cell_type": "code",
      "execution_count": 3,
      "metadata": {
        "id": "hXfxdx4zp4Uf"
      },
      "outputs": [],
      "source": [
        "from sklearn.datasets import load_iris\n",
        "from sklearn.model_selection import train_test_split\n",
        "X, y = load_iris(return_X_y=True)\n",
        "X_train, X_test, y_train, y_test = train_test_split(X, y, test_size=0.3, random_state=0)"
      ]
    },
    {
      "cell_type": "code",
      "source": [
        "import numpy as np\n",
        "class GaussianNaiveBayes:\n",
        "    def __init__(self):\n",
        "        self.classes = {}\n",
        "        self.mean = {}\n",
        "        self.var = {}\n",
        "        self.prior = {}\n",
        "\n",
        "        for cls in self.classes:\n",
        "            self.mean[cls] = X[y == cls].mean(axis=0)\n",
        "            self.var[cls] = X[y == cls].var(axis=0)\n",
        "            self.prior[cls] = X[y == cls].prior\n",
        "\n",
        "    def fit(self, X, y):\n",
        "        self.classes = np.unique(y)\n",
        "        self.mean = {}\n",
        "        self.var = {}\n",
        "        self.prior = {}\n",
        "        self.prior = np.array([np.mean(y == cls) for cls in self.classes])\n",
        "        self.mean = np.array([X[y == cls].mean(axis=0) for cls in self.classes])\n",
        "        self.var = np.array([X[y == cls].var(axis=0) for cls in self.classes])\n",
        "\n",
        "    def predict(self, X):\n",
        "        y_pred = [self._predict(x) for x in X]\n",
        "        return np.array(y_pred)\n",
        "\n",
        "    def _predict(self, x):\n",
        "        posteriors = []\n",
        "        for idx, cls in enumerate(self.classes):\n",
        "            prior = np.log(self.prior[idx])\n",
        "            class_conditional = np.sum(np.log(self._pdf(idx, x)))\n",
        "            posterior = prior + class_conditional\n",
        "            posteriors.append(posterior)\n",
        "        return self.classes[np.argmax(posteriors)]\n",
        "\n",
        "    def _pdf(self, class_idx, x):\n",
        "        \"\"\"\n",
        "        Calculates the probability density function for the Gaussian distribution.\n",
        "        \"\"\"\n",
        "        mean = self.mean[class_idx]\n",
        "        var = self.var[class_idx]\n",
        "        numerator = np.exp(-((x - mean)**2) / (2 * var))\n",
        "        denominator = np.sqrt(2 * np.pi * var)\n",
        "        return numerator / denominator\n",
        "\n",
        "GNB = GaussianNaiveBayes()\n",
        "GNB.fit(X_train, y_train)\n",
        "y_pred = GNB.predict(X_test)\n",
        "\n"
      ],
      "metadata": {
        "id": "9QU2VZbG2LNK"
      },
      "execution_count": 4,
      "outputs": []
    },
    {
      "cell_type": "code",
      "source": [
        "from sklearn.metrics import accuracy_score\n",
        "accuracy_score(y_test, y_pred)"
      ],
      "metadata": {
        "colab": {
          "base_uri": "https://localhost:8080/"
        },
        "id": "QEZBnORvzWvz",
        "outputId": "5d03ed40-6b14-4024-f7b4-a604624e61ab"
      },
      "execution_count": 5,
      "outputs": [
        {
          "output_type": "execute_result",
          "data": {
            "text/plain": [
              "1.0"
            ]
          },
          "metadata": {},
          "execution_count": 5
        }
      ]
    },
    {
      "cell_type": "code",
      "source": [
        "#Using Inbuilt function\n",
        "from sklearn.naive_bayes import GaussianNB\n",
        "gnb = GaussianNB()\n",
        "y_pred = gnb.fit(X_train, y_train).predict(X_test)\n",
        "accuracy_score(y_test, y_pred)"
      ],
      "metadata": {
        "colab": {
          "base_uri": "https://localhost:8080/"
        },
        "id": "TppRzkuXjO_3",
        "outputId": "ca14e82a-7687-4dd1-d5d2-874ed34a5b76"
      },
      "execution_count": 6,
      "outputs": [
        {
          "output_type": "execute_result",
          "data": {
            "text/plain": [
              "1.0"
            ]
          },
          "metadata": {},
          "execution_count": 6
        }
      ]
    }
  ]
}
